{
 "cells": [
  {
   "cell_type": "markdown",
   "metadata": {},
   "source": [
    "# Deploy and monitor a machine learning workflow for Image Classification"
   ]
  },
  {
   "cell_type": "markdown",
   "metadata": {},
   "source": [
    "## Setting up this notebook\n",
    "\n",
    "Notes about the instance size and kernel setup: this notebook has been tested on\n",
    "\n",
    "1. The `Python 3 (Data Science)` kernel\n",
    "2. The `ml.t3.medium` instance\n",
    "\n",
    "## Data Staging\n",
    "\n",
    "We'll use a sample dataset called CIFAR to simulate the challenges Scones Unlimited are facing in Image Classification. In order to start working with CIFAR we'll need to:\n",
    "\n",
    "1. Extract the data from a hosting service\n",
    "2. Transform it into a usable shape and format\n",
    "3. Load it into a production system\n",
    "\n",
    "In other words, we're going to do some simple ETL!\n",
    "\n",
    "### 1. Extract the data from the hosting service\n",
    "\n",
    "In the cell below, define a function `extract_cifar_data` that extracts python version of the CIFAR-100 dataset. The CIFAR dataaset is open source and generously hosted by the University of Toronto at: https://www.cs.toronto.edu/~kriz/cifar-100-python.tar.gz "
   ]
  },
  {
   "cell_type": "code",
   "execution_count": 4,
   "metadata": {},
   "outputs": [],
   "source": [
    "import requests\n",
    "\n",
    "def extract_cifar_data(url, filename=\"cifar.tar.gz\"):\n",
    "    \"\"\"A function for extracting the CIFAR-100 dataset and storing it as a gzipped file\n",
    "    \n",
    "    Arguments:\n",
    "    url      -- the URL where the dataset is hosted\n",
    "    filename -- the full path where the dataset will be written\n",
    "    \n",
    "    \"\"\"\n",
    "    \n",
    "    # Todo: request the data from the data url\n",
    "    # Hint: use `requests.get` method\n",
    "    r = requests.get(url=url)\n",
    "    with open(filename, \"wb\") as file_context:\n",
    "        file_context.write(r.content)\n",
    "    return r"
   ]
  },
  {
   "cell_type": "markdown",
   "metadata": {},
   "source": [
    "Let's test it out! Run the following cell and check whether a new file `cifar.tar.gz` is created in the file explorer."
   ]
  },
  {
   "cell_type": "code",
   "execution_count": 5,
   "metadata": {},
   "outputs": [
    {
     "data": {
      "text/plain": [
       "<Response [200]>"
      ]
     },
     "execution_count": 5,
     "metadata": {},
     "output_type": "execute_result"
    }
   ],
   "source": [
    "extract_cifar_data(\"https://www.cs.toronto.edu/~kriz/cifar-100-python.tar.gz\")     "
   ]
  },
  {
   "cell_type": "markdown",
   "metadata": {},
   "source": [
    "### 2. Transform the data into a usable shape and format\n",
    "\n",
    "Clearly, distributing the data as a gzipped archive makes sense for the hosting service! It saves on bandwidth, storage, and it's a widely-used archive format. In fact, it's so widely used that the Python community ships a utility for working with them, `tarfile`, as part of its Standard Library. Execute the following cell to decompress your extracted dataset:"
   ]
  },
  {
   "cell_type": "code",
   "execution_count": 6,
   "metadata": {},
   "outputs": [],
   "source": [
    "import tarfile\n",
    "\n",
    "with tarfile.open(\"cifar.tar.gz\", \"r:gz\") as tar:\n",
    "    tar.extractall()"
   ]
  },
  {
   "cell_type": "markdown",
   "metadata": {},
   "source": [
    "A new folder `cifar-100-python` should be created, containing `meta`, `test`, and `train` files. These files are `pickles` and the [CIFAR homepage](https://www.cs.toronto.edu/~kriz/cifar.html) provides a simple script that can be used to load them. We've adapted the script below for you to run:"
   ]
  },
  {
   "cell_type": "code",
   "execution_count": 7,
   "metadata": {},
   "outputs": [],
   "source": [
    "import pickle\n",
    "\n",
    "with open(\"./cifar-100-python/meta\", \"rb\") as f:\n",
    "    dataset_meta = pickle.load(f, encoding='bytes')\n",
    "\n",
    "with open(\"./cifar-100-python/test\", \"rb\") as f:\n",
    "    dataset_test = pickle.load(f, encoding='bytes')\n",
    "\n",
    "with open(\"./cifar-100-python/train\", \"rb\") as f:\n",
    "    dataset_train = pickle.load(f, encoding='bytes')"
   ]
  },
  {
   "cell_type": "code",
   "execution_count": 8,
   "metadata": {},
   "outputs": [
    {
     "data": {
      "text/plain": [
       "dict_keys([b'filenames', b'batch_label', b'fine_labels', b'coarse_labels', b'data'])"
      ]
     },
     "execution_count": 8,
     "metadata": {},
     "output_type": "execute_result"
    }
   ],
   "source": [
    "# Feel free to explore the datasets\n",
    "\n",
    "dataset_train.keys()"
   ]
  },
  {
   "cell_type": "markdown",
   "metadata": {},
   "source": [
    "As documented on the homepage, `b'data'` contains rows of 3073 unsigned integers, representing three channels (red, green, and blue) for one 32x32 pixel image per row."
   ]
  },
  {
   "cell_type": "code",
   "execution_count": 9,
   "metadata": {},
   "outputs": [
    {
     "data": {
      "text/plain": [
       "3072"
      ]
     },
     "execution_count": 9,
     "metadata": {},
     "output_type": "execute_result"
    }
   ],
   "source": [
    "32*32*3"
   ]
  },
  {
   "cell_type": "markdown",
   "metadata": {},
   "source": [
    "For a simple gut-check, let's transform one of our images. Each 1024 items in a row is a channel (red, green, then blue). Each 32 items in the channel are a row in the 32x32 image. Using python, we can stack these channels into a 32x32x3 array, and save it as a PNG file:"
   ]
  },
  {
   "cell_type": "code",
   "execution_count": 10,
   "metadata": {},
   "outputs": [],
   "source": [
    "import numpy as np\n",
    "\n",
    "# Each 1024 in a row is a channel (red, green, then blue)\n",
    "row = dataset_train[b'data'][0]\n",
    "red, green, blue = row[0:1024], row[1024:2048], row[2048:]\n",
    "\n",
    "# Each 32 items in the channel are a row in the 32x32 image\n",
    "red = red.reshape(32,32)\n",
    "green = green.reshape(32,32)\n",
    "blue = blue.reshape(32,32)\n",
    "\n",
    "# Combine the channels into a 32x32x3 image!\n",
    "combined = np.dstack((red,green,blue))"
   ]
  },
  {
   "cell_type": "markdown",
   "metadata": {},
   "source": [
    "For a more concise version, consider the following:"
   ]
  },
  {
   "cell_type": "code",
   "execution_count": 11,
   "metadata": {},
   "outputs": [],
   "source": [
    "# All in one:\n",
    "test_image = np.dstack((\n",
    "    row[0:1024].reshape(32,32),\n",
    "    row[1024:2048].reshape(32,32),\n",
    "    row[2048:].reshape(32,32)\n",
    "))"
   ]
  },
  {
   "cell_type": "code",
   "execution_count": 12,
   "metadata": {},
   "outputs": [
    {
     "data": {
      "image/png": "[encoded data removed]",
      "text/plain": [
       "<Figure size 432x288 with 1 Axes>"
      ]
     },
     "metadata": {
      "needs_background": "light"
     },
     "output_type": "display_data"
    }
   ],
   "source": [
    "import matplotlib.pyplot as plt\n",
    "plt.imshow(test_image);"
   ]
  },
  {
   "cell_type": "markdown",
   "metadata": {},
   "source": [
    "Looks like a cow! Let's check the label. `dataset_meta` contains label names in order, and `dataset_train` has a list of labels for each row."
   ]
  },
  {
   "cell_type": "code",
   "execution_count": 13,
   "metadata": {},
   "outputs": [
    {
     "data": {
      "text/plain": [
       "19"
      ]
     },
     "execution_count": 13,
     "metadata": {},
     "output_type": "execute_result"
    }
   ],
   "source": [
    "dataset_train[b'fine_labels'][0]"
   ]
  },
  {
   "cell_type": "markdown",
   "metadata": {},
   "source": [
    "Our image has a label of `19`, so let's see what the 19th item is in the list of label names."
   ]
  },
  {
   "cell_type": "code",
   "execution_count": 14,
   "metadata": {},
   "outputs": [
    {
     "name": "stdout",
     "output_type": "stream",
     "text": [
      "b'cattle'\n"
     ]
    }
   ],
   "source": [
    "print(dataset_meta[b'fine_label_names'][19])"
   ]
  },
  {
   "cell_type": "markdown",
   "metadata": {},
   "source": [
    "Ok! 'cattle' sounds about right. By the way, using the previous two lines we can do:"
   ]
  },
  {
   "cell_type": "code",
   "execution_count": 15,
   "metadata": {},
   "outputs": [
    {
     "name": "stdout",
     "output_type": "stream",
     "text": [
      "b'cattle'\n"
     ]
    }
   ],
   "source": [
    "n = 0\n",
    "print(dataset_meta[b'fine_label_names'][dataset_train[b'fine_labels'][n]])"
   ]
  },
  {
   "cell_type": "markdown",
   "metadata": {},
   "source": [
    "Now we know how to check labels, is there a way that we can also check file names? `dataset_train` also contains a `b'filenames'` key. Let's see what we have here:"
   ]
  },
  {
   "cell_type": "code",
   "execution_count": 16,
   "metadata": {},
   "outputs": [
    {
     "name": "stdout",
     "output_type": "stream",
     "text": [
      "b'bos_taurus_s_000507.png'\n"
     ]
    }
   ],
   "source": [
    "print(dataset_train[b'filenames'][0])"
   ]
  },
  {
   "cell_type": "markdown",
   "metadata": {},
   "source": [
    "\"Taurus\" is the name of a subspecies of cattle, so this looks like a pretty reasonable filename. To save an image we can also do:"
   ]
  },
  {
   "cell_type": "code",
   "execution_count": 17,
   "metadata": {},
   "outputs": [],
   "source": [
    "plt.imsave(\"file.png\", test_image)"
   ]
  },
  {
   "cell_type": "markdown",
   "metadata": {},
   "source": [
    "Your new PNG file should now appear in the file explorer -- go ahead and pop it open to see!\n",
    "\n",
    "Now that you know how to reshape the images, save them as files, and capture their filenames and labels, let's just capture all the bicycles and motorcycles and save them. Scones Unlimited can use a model that tells these apart to route delivery drivers automatically.\n",
    "\n",
    "In the following cell, identify the label numbers for Bicycles and Motorcycles:"
   ]
  },
  {
   "cell_type": "code",
   "execution_count": 42,
   "metadata": {},
   "outputs": [
    {
     "name": "stdout",
     "output_type": "stream",
     "text": [
      "b'bicycle'\n",
      "b'motorcycle'\n"
     ]
    }
   ],
   "source": [
    "import pandas as pd\n",
    "\n",
    "# Todo: Filter the dataset_train and dataset_meta objects to find the label numbers for Bicycle and Motorcycles\n",
    "print(dataset_meta[b'fine_label_names'][8])\n",
    "print(dataset_meta[b'fine_label_names'][48])"
   ]
  },
  {
   "cell_type": "markdown",
   "metadata": {},
   "source": [
    "Good job! We only need objects with label 8 and 48 -- this drastically simplifies our handling of the data! Below we construct a dataframe for you, and you can safely drop the rows that don't contain observations about bicycles and motorcycles. Fill in the missing lines below to drop all other rows:"
   ]
  },
  {
   "cell_type": "code",
   "execution_count": 65,
   "metadata": {},
   "outputs": [],
   "source": [
    "#Construct the dataframe\n",
    "df_train = pd.DataFrame({\n",
    "    \"filenames\": dataset_train[b'filenames'],\n",
    "    \"labels\": dataset_train[b'fine_labels'],\n",
    "    \"row\": range(len(dataset_train[b'filenames']))\n",
    "})\n",
    "\n",
    "# Drop all rows from df_train where label is not 8 or 48\n",
    "\n",
    "df_train = df_train[ (df_train['labels'] == 8) | (df_train['labels'] == 48)]\n",
    "\n",
    "\n",
    "#TODO: Fill in\n",
    "\n",
    "# Decode df_train.filenames so they are regular strings\n",
    "df_train[\"filenames\"] = df_train[\"filenames\"].apply(\n",
    "    lambda x: x.decode(\"utf-8\")\n",
    ")\n",
    "\n",
    "\n",
    "df_test = pd.DataFrame({\n",
    "    \"filenames\": dataset_test[b'filenames'],\n",
    "    \"labels\": dataset_test[b'fine_labels'],\n",
    "    \"row\": range(len(dataset_test[b'filenames']))\n",
    "})\n",
    "\n",
    "# Drop all rows from df_test where label is not 8 or 48\n",
    "df_test = df_test[ (df_test['labels'] == 8) | (df_test['labels'] == 48)]\n",
    "\n",
    "# Decode df_test.filenames so they are regular strings\n",
    "df_test[\"filenames\"] = df_test[\"filenames\"].apply(\n",
    "    lambda x: x.decode(\"utf-8\")\n",
    ")"
   ]
  },
  {
   "cell_type": "code",
   "execution_count": 66,
   "metadata": {},
   "outputs": [
    {
     "data": {
      "text/html": [
       "<div>\n",
       "<style scoped>\n",
       "    .dataframe tbody tr th:only-of-type {\n",
       "        vertical-align: middle;\n",
       "    }\n",
       "\n",
       "    .dataframe tbody tr th {\n",
       "        vertical-align: top;\n",
       "    }\n",
       "\n",
       "    .dataframe thead th {\n",
       "        text-align: right;\n",
       "    }\n",
       "</style>\n",
       "<table border=\"1\" class=\"dataframe\">\n",
       "  <thead>\n",
       "    <tr style=\"text-align: right;\">\n",
       "      <th></th>\n",
       "      <th>filenames</th>\n",
       "      <th>labels</th>\n",
       "      <th>row</th>\n",
       "    </tr>\n",
       "  </thead>\n",
       "  <tbody>\n",
       "    <tr>\n",
       "      <th>16</th>\n",
       "      <td>bike_s_000682.png</td>\n",
       "      <td>8</td>\n",
       "      <td>16</td>\n",
       "    </tr>\n",
       "    <tr>\n",
       "      <th>30</th>\n",
       "      <td>bike_s_000127.png</td>\n",
       "      <td>8</td>\n",
       "      <td>30</td>\n",
       "    </tr>\n",
       "    <tr>\n",
       "      <th>130</th>\n",
       "      <td>cycle_s_002598.png</td>\n",
       "      <td>8</td>\n",
       "      <td>130</td>\n",
       "    </tr>\n",
       "    <tr>\n",
       "      <th>152</th>\n",
       "      <td>minibike_s_000824.png</td>\n",
       "      <td>48</td>\n",
       "      <td>152</td>\n",
       "    </tr>\n",
       "    <tr>\n",
       "      <th>195</th>\n",
       "      <td>motorcycle_s_001856.png</td>\n",
       "      <td>48</td>\n",
       "      <td>195</td>\n",
       "    </tr>\n",
       "  </tbody>\n",
       "</table>\n",
       "</div>"
      ],
      "text/plain": [
       "                   filenames  labels  row\n",
       "16         bike_s_000682.png       8   16\n",
       "30         bike_s_000127.png       8   30\n",
       "130       cycle_s_002598.png       8  130\n",
       "152    minibike_s_000824.png      48  152\n",
       "195  motorcycle_s_001856.png      48  195"
      ]
     },
     "execution_count": 66,
     "metadata": {},
     "output_type": "execute_result"
    }
   ],
   "source": [
    "df_train.head()"
   ]
  },
  {
   "cell_type": "code",
   "execution_count": 67,
   "metadata": {},
   "outputs": [
    {
     "data": {
      "text/plain": [
       "48    500\n",
       "8     500\n",
       "Name: labels, dtype: int64"
      ]
     },
     "execution_count": 67,
     "metadata": {},
     "output_type": "execute_result"
    }
   ],
   "source": [
    "df_train.labels.value_counts()"
   ]
  },
  {
   "cell_type": "code",
   "execution_count": 68,
   "metadata": {},
   "outputs": [
    {
     "data": {
      "text/html": [
       "<div>\n",
       "<style scoped>\n",
       "    .dataframe tbody tr th:only-of-type {\n",
       "        vertical-align: middle;\n",
       "    }\n",
       "\n",
       "    .dataframe tbody tr th {\n",
       "        vertical-align: top;\n",
       "    }\n",
       "\n",
       "    .dataframe thead th {\n",
       "        text-align: right;\n",
       "    }\n",
       "</style>\n",
       "<table border=\"1\" class=\"dataframe\">\n",
       "  <thead>\n",
       "    <tr style=\"text-align: right;\">\n",
       "      <th></th>\n",
       "      <th>filenames</th>\n",
       "      <th>labels</th>\n",
       "      <th>row</th>\n",
       "    </tr>\n",
       "  </thead>\n",
       "  <tbody>\n",
       "    <tr>\n",
       "      <th>27</th>\n",
       "      <td>safety_bike_s_000390.png</td>\n",
       "      <td>8</td>\n",
       "      <td>27</td>\n",
       "    </tr>\n",
       "    <tr>\n",
       "      <th>28</th>\n",
       "      <td>bike_s_000658.png</td>\n",
       "      <td>8</td>\n",
       "      <td>28</td>\n",
       "    </tr>\n",
       "    <tr>\n",
       "      <th>116</th>\n",
       "      <td>velocipede_s_001744.png</td>\n",
       "      <td>8</td>\n",
       "      <td>116</td>\n",
       "    </tr>\n",
       "    <tr>\n",
       "      <th>161</th>\n",
       "      <td>bike_s_000643.png</td>\n",
       "      <td>8</td>\n",
       "      <td>161</td>\n",
       "    </tr>\n",
       "    <tr>\n",
       "      <th>319</th>\n",
       "      <td>ordinary_bicycle_s_000437.png</td>\n",
       "      <td>8</td>\n",
       "      <td>319</td>\n",
       "    </tr>\n",
       "  </tbody>\n",
       "</table>\n",
       "</div>"
      ],
      "text/plain": [
       "                         filenames  labels  row\n",
       "27        safety_bike_s_000390.png       8   27\n",
       "28               bike_s_000658.png       8   28\n",
       "116        velocipede_s_001744.png       8  116\n",
       "161              bike_s_000643.png       8  161\n",
       "319  ordinary_bicycle_s_000437.png       8  319"
      ]
     },
     "execution_count": 68,
     "metadata": {},
     "output_type": "execute_result"
    }
   ],
   "source": [
    "df_test.head()"
   ]
  },
  {
   "cell_type": "code",
   "execution_count": 69,
   "metadata": {},
   "outputs": [
    {
     "data": {
      "text/plain": [
       "48    100\n",
       "8     100\n",
       "Name: labels, dtype: int64"
      ]
     },
     "execution_count": 69,
     "metadata": {},
     "output_type": "execute_result"
    }
   ],
   "source": [
    "df_test.labels.value_counts()"
   ]
  },
  {
   "cell_type": "markdown",
   "metadata": {},
   "source": [
    "Now that the data is filtered for just our classes, we can save all our images."
   ]
  },
  {
   "cell_type": "code",
   "execution_count": 70,
   "metadata": {},
   "outputs": [],
   "source": [
    "!mkdir ./train\n",
    "!mkdir ./test"
   ]
  },
  {
   "cell_type": "markdown",
   "metadata": {},
   "source": [
    "In the previous sections we introduced you to several key snippets of code:\n",
    "\n",
    "1. Grabbing the image data:\n",
    "\n",
    "```python\n",
    "dataset_train[b'data'][0]\n",
    "```\n",
    "\n",
    "2. A simple idiom for stacking the image data into the right shape\n",
    "\n",
    "```python\n",
    "import numpy as np\n",
    "np.dstack((\n",
    "    row[0:1024].reshape(32,32),\n",
    "    row[1024:2048].reshape(32,32),\n",
    "    row[2048:].reshape(32,32)\n",
    "))\n",
    "```\n",
    "\n",
    "3. A simple `matplotlib` utility for saving images\n",
    "\n",
    "```python\n",
    "plt.imsave(path+row['filenames'], target)\n",
    "```\n",
    "\n",
    "Compose these together into a function that saves all the images into the `./test` and `./train` directories. Use the comments in the body of the `save_images` function below to guide your construction of the function:\n"
   ]
  },
  {
   "cell_type": "code",
   "execution_count": 82,
   "metadata": {},
   "outputs": [],
   "source": [
    "def save_images(path):\n",
    "    #Grab the image data in row-major form\n",
    "    for img in df_train['row']:\n",
    "        row = dataset_train[b'data'][img]\n",
    "\n",
    "        # Consolidated stacking/reshaping from earlier\n",
    "        target = np.dstack((\n",
    "                row[0:1024].reshape(32,32),\n",
    "                row[1024:2048].reshape(32,32),\n",
    "                row[2048:].reshape(32,32)\n",
    "            ))\n",
    "\n",
    "\n",
    "        # Save the image\n",
    "        file_names=dataset_train[b'filenames'][img]\n",
    "        plt.imsave(path + '/' + file_names.decode(\"utf-8\"), target, format='png')\n",
    "\n",
    "    # Return any signal data you want for debugging\n",
    "    return \n",
    "\n",
    "## TODO: save ALL images using the save_images function\n",
    "path='./train'\n",
    "save_images(path)"
   ]
  },
  {
   "cell_type": "code",
   "execution_count": 13,
   "metadata": {},
   "outputs": [
    {
     "ename": "NameError",
     "evalue": "name 'df_test' is not defined",
     "output_type": "error",
     "traceback": [
      "\u001b[0;31m---------------------------------------------------------------------------\u001b[0m",
      "\u001b[0;31mNameError\u001b[0m                                 Traceback (most recent call last)",
      "\u001b[0;32m<ipython-input-13-7d39d8cbdf18>\u001b[0m in \u001b[0;36m<module>\u001b[0;34m\u001b[0m\n\u001b[1;32m     21\u001b[0m \u001b[0;31m## TODO: save ALL images using the save_images function\u001b[0m\u001b[0;34m\u001b[0m\u001b[0;34m\u001b[0m\u001b[0;34m\u001b[0m\u001b[0m\n\u001b[1;32m     22\u001b[0m \u001b[0mpath\u001b[0m\u001b[0;34m=\u001b[0m\u001b[0;34m'./test'\u001b[0m\u001b[0;34m\u001b[0m\u001b[0;34m\u001b[0m\u001b[0m\n\u001b[0;32m---> 23\u001b[0;31m \u001b[0msave_images\u001b[0m\u001b[0;34m(\u001b[0m\u001b[0mpath\u001b[0m\u001b[0;34m)\u001b[0m\u001b[0;34m\u001b[0m\u001b[0;34m\u001b[0m\u001b[0m\n\u001b[0m",
      "\u001b[0;32m<ipython-input-13-7d39d8cbdf18>\u001b[0m in \u001b[0;36msave_images\u001b[0;34m(path)\u001b[0m\n\u001b[1;32m      1\u001b[0m \u001b[0;32mdef\u001b[0m \u001b[0msave_images\u001b[0m\u001b[0;34m(\u001b[0m\u001b[0mpath\u001b[0m\u001b[0;34m)\u001b[0m\u001b[0;34m:\u001b[0m\u001b[0;34m\u001b[0m\u001b[0;34m\u001b[0m\u001b[0m\n\u001b[1;32m      2\u001b[0m     \u001b[0;31m#Grab the image data in row-major form\u001b[0m\u001b[0;34m\u001b[0m\u001b[0;34m\u001b[0m\u001b[0;34m\u001b[0m\u001b[0m\n\u001b[0;32m----> 3\u001b[0;31m     \u001b[0;32mfor\u001b[0m \u001b[0mimg\u001b[0m \u001b[0;32min\u001b[0m \u001b[0mdf_test\u001b[0m\u001b[0;34m[\u001b[0m\u001b[0;34m'row'\u001b[0m\u001b[0;34m]\u001b[0m\u001b[0;34m:\u001b[0m\u001b[0;34m\u001b[0m\u001b[0;34m\u001b[0m\u001b[0m\n\u001b[0m\u001b[1;32m      4\u001b[0m         \u001b[0mrow\u001b[0m \u001b[0;34m=\u001b[0m \u001b[0mdataset_test\u001b[0m\u001b[0;34m[\u001b[0m\u001b[0;34mb'data'\u001b[0m\u001b[0;34m]\u001b[0m\u001b[0;34m[\u001b[0m\u001b[0mimg\u001b[0m\u001b[0;34m]\u001b[0m\u001b[0;34m\u001b[0m\u001b[0;34m\u001b[0m\u001b[0m\n\u001b[1;32m      5\u001b[0m \u001b[0;34m\u001b[0m\u001b[0m\n",
      "\u001b[0;31mNameError\u001b[0m: name 'df_test' is not defined"
     ]
    }
   ],
   "source": [
    "def save_images(path):\n",
    "    #Grab the image data in row-major form\n",
    "    for img in df_test['row']:\n",
    "        row = dataset_test[b'data'][img]\n",
    "\n",
    "        # Consolidated stacking/reshaping from earlier\n",
    "        target = np.dstack((\n",
    "                row[0:1024].reshape(32,32),\n",
    "                row[1024:2048].reshape(32,32),\n",
    "                row[2048:].reshape(32,32)\n",
    "            ))\n",
    "\n",
    "\n",
    "        # Save the image\n",
    "        file_names=dataset_test[b'filenames'][img]\n",
    "        plt.imsave(path + '/' + file_names.decode(\"utf-8\"), target, format='png')\n",
    "\n",
    "    # Return any signal data you want for debugging\n",
    "    return \n",
    "\n",
    "## TODO: save ALL images using the save_images function\n",
    "path='./test'\n",
    "save_images(path)"
   ]
  },
  {
   "cell_type": "markdown",
   "metadata": {},
   "source": [
    "### 3. Load the data\n",
    "\n",
    "Now we can load the data into S3.\n",
    "\n",
    "Using the sagemaker SDK grab the current region, execution role, and bucket."
   ]
  },
  {
   "cell_type": "code",
   "execution_count": 4,
   "metadata": {},
   "outputs": [
    {
     "name": "stdout",
     "output_type": "stream",
     "text": [
      "Default Bucket: sagemaker-studio-unwwfklhove\n",
      "AWS Region: us-east-1\n",
      "RoleArn: arn:aws:iam::406503643825:role/service-role/AmazonSageMaker-ExecutionRole-20211126T122292\n"
     ]
    }
   ],
   "source": [
    "import sagemaker\n",
    "from sagemaker import get_execution_role\n",
    "\n",
    "\n",
    "bucket= 'sagemaker-studio-unwwfklhove' ## TODO: fill in\n",
    "print(\"Default Bucket: {}\".format(bucket))\n",
    "\n",
    "region = 'us-east-1' ## TODO: fill in\n",
    "print(\"AWS Region: {}\".format(region))\n",
    "\n",
    "role = get_execution_role()## TODO: fill in\n",
    "print(\"RoleArn: {}\".format(role))"
   ]
  },
  {
   "cell_type": "markdown",
   "metadata": {},
   "source": [
    "With this data we can easily sync your data up into S3!"
   ]
  },
  {
   "cell_type": "code",
   "execution_count": 5,
   "metadata": {},
   "outputs": [],
   "source": [
    "import os\n",
    "\n",
    "os.environ[\"DEFAULT_S3_BUCKET\"] = bucket\n",
    "!aws s3 sync ./train s3://${DEFAULT_S3_BUCKET}/train/\n",
    "!aws s3 sync ./test s3://${DEFAULT_S3_BUCKET}/test/"
   ]
  },
  {
   "cell_type": "markdown",
   "metadata": {},
   "source": [
    "And that's it! You can check the bucket and verify that the items were uploaded.\n",
    "\n",
    "## Model Training\n",
    "\n",
    "For Image Classification, Sagemaker [also expects metadata](https://docs.aws.amazon.com/sagemaker/latest/dg/image-classification.html) e.g. in the form of TSV files with labels and filepaths. We can generate these using our Pandas DataFrames from earlier:"
   ]
  },
  {
   "cell_type": "code",
   "execution_count": 6,
   "metadata": {},
   "outputs": [
    {
     "ename": "NameError",
     "evalue": "name 'df_train' is not defined",
     "output_type": "error",
     "traceback": [
      "\u001b[0;31m---------------------------------------------------------------------------\u001b[0m",
      "\u001b[0;31mNameError\u001b[0m                                 Traceback (most recent call last)",
      "\u001b[0;32m<ipython-input-6-3542c0df07ca>\u001b[0m in \u001b[0;36m<module>\u001b[0;34m\u001b[0m\n\u001b[1;32m      6\u001b[0m     )\n\u001b[1;32m      7\u001b[0m \u001b[0;34m\u001b[0m\u001b[0m\n\u001b[0;32m----> 8\u001b[0;31m \u001b[0mto_metadata_file\u001b[0m\u001b[0;34m(\u001b[0m\u001b[0mdf_train\u001b[0m\u001b[0;34m.\u001b[0m\u001b[0mcopy\u001b[0m\u001b[0;34m(\u001b[0m\u001b[0;34m)\u001b[0m\u001b[0;34m,\u001b[0m \u001b[0;34m\"train\"\u001b[0m\u001b[0;34m)\u001b[0m\u001b[0;34m\u001b[0m\u001b[0;34m\u001b[0m\u001b[0m\n\u001b[0m\u001b[1;32m      9\u001b[0m \u001b[0mto_metadata_file\u001b[0m\u001b[0;34m(\u001b[0m\u001b[0mdf_test\u001b[0m\u001b[0;34m.\u001b[0m\u001b[0mcopy\u001b[0m\u001b[0;34m(\u001b[0m\u001b[0;34m)\u001b[0m\u001b[0;34m,\u001b[0m \u001b[0;34m\"test\"\u001b[0m\u001b[0;34m)\u001b[0m\u001b[0;34m\u001b[0m\u001b[0;34m\u001b[0m\u001b[0m\n",
      "\u001b[0;31mNameError\u001b[0m: name 'df_train' is not defined"
     ]
    }
   ],
   "source": [
    "def to_metadata_file(df, prefix):\n",
    "    df[\"s3_path\"] = df[\"filenames\"]\n",
    "    df[\"labels\"] = df[\"labels\"].apply(lambda x: 0 if x==8 else 1)\n",
    "    return df[[\"row\", \"labels\", \"s3_path\"]].to_csv(\n",
    "        f\"{prefix}.lst\", sep=\"\\t\", index=False, header=False\n",
    "    )\n",
    "    \n",
    "to_metadata_file(df_train.copy(), \"train\")\n",
    "to_metadata_file(df_test.copy(), \"test\")"
   ]
  },
  {
   "cell_type": "markdown",
   "metadata": {},
   "source": [
    "We can also upload our manifest files:"
   ]
  },
  {
   "cell_type": "code",
   "execution_count": 7,
   "metadata": {},
   "outputs": [],
   "source": [
    "import boto3\n",
    "\n",
    "# Upload files\n",
    "boto3.Session().resource('s3').Bucket(\n",
    "    bucket).Object('train.lst').upload_file('./train.lst')\n",
    "boto3.Session().resource('s3').Bucket(\n",
    "    bucket).Object('test.lst').upload_file('./test.lst')"
   ]
  },
  {
   "cell_type": "markdown",
   "metadata": {},
   "source": [
    "Using the `bucket` and `region` info we can get the latest prebuilt container to run our training job, and define an output location on our s3 bucket for the model. Use the `image_uris` function from the SageMaker SDK to retrieve the latest `image-classification` image below:"
   ]
  },
  {
   "cell_type": "code",
   "execution_count": 8,
   "metadata": {},
   "outputs": [],
   "source": [
    "# Use the image_uris function to retrieve the latest 'image-classification' image \n",
    "algo_image = sagemaker.image_uris.retrieve(framework='image-classification',region=region)## TODO: fill in\n",
    "s3_output_location = f\"s3://{bucket}/models/image_model\""
   ]
  },
  {
   "cell_type": "markdown",
   "metadata": {},
   "source": [
    "We're ready to create an estimator! Create an estimator `img_classifier_model` that uses one instance of `ml.p2.xlarge`. Ensure that y ou use the output location we defined above - we'll be referring to that later!"
   ]
  },
  {
   "cell_type": "code",
   "execution_count": 9,
   "metadata": {},
   "outputs": [],
   "source": [
    "img_classifier_model=sagemaker.estimator.Estimator(\n",
    "    image_uri=algo_image,\n",
    "    role=role,\n",
    "    py_version='py36',\n",
    "    framework_version=\"1.8\",\n",
    "    instance_count=1,\n",
    "    output_path=s3_output_location,\n",
    "    instance_type=\"ml.p2.xlarge\"\n",
    ")\n",
    "    ## TODO: define your estimator options    \n"
   ]
  },
  {
   "cell_type": "markdown",
   "metadata": {},
   "source": [
    "We can also set a few key hyperparameters and define the inputs for our model:"
   ]
  },
  {
   "cell_type": "code",
   "execution_count": 10,
   "metadata": {},
   "outputs": [],
   "source": [
    "img_classifier_model.set_hyperparameters(\n",
    "    image_shape= '3,32,32', # TODO: Fill in\n",
    "    num_classes= 2, # TODO: Fill in\n",
    "    num_training_samples= 500 # TODO: fill in\n",
    ")"
   ]
  },
  {
   "cell_type": "markdown",
   "metadata": {},
   "source": [
    "The `image-classification` image uses four input channels with very specific input parameters. For convenience, we've provided them below:"
   ]
  },
  {
   "cell_type": "code",
   "execution_count": 11,
   "metadata": {},
   "outputs": [],
   "source": [
    "from sagemaker.debugger import Rule, rule_configs\n",
    "from sagemaker.session import TrainingInput\n",
    "model_inputs = {\n",
    "        \"train\": sagemaker.inputs.TrainingInput(\n",
    "            s3_data=f\"s3://{bucket}/train/\",\n",
    "            content_type=\"application/x-image\"\n",
    "        ),\n",
    "        \"validation\": sagemaker.inputs.TrainingInput(\n",
    "            s3_data=f\"s3://{bucket}/test/\",\n",
    "            content_type=\"application/x-image\"\n",
    "        ),\n",
    "        \"train_lst\": sagemaker.inputs.TrainingInput(\n",
    "            s3_data=f\"s3://{bucket}/train.lst\",\n",
    "            content_type=\"application/x-image\"\n",
    "        ),\n",
    "        \"validation_lst\": sagemaker.inputs.TrainingInput(\n",
    "            s3_data=f\"s3://{bucket}/test.lst\",\n",
    "            content_type=\"application/x-image\"\n",
    "        )\n",
    "}"
   ]
  },
  {
   "cell_type": "markdown",
   "metadata": {},
   "source": [
    "Great, now we can train the model using the model_inputs. In the cell below, call the `fit` method on our model,:"
   ]
  },
  {
   "cell_type": "code",
   "execution_count": 12,
   "metadata": {},
   "outputs": [
    {
     "name": "stdout",
     "output_type": "stream",
     "text": [
      "2022-01-15 16:09:31 Starting - Starting the training job...\n",
      "2022-01-15 16:09:55 Starting - Launching requested ML instancesProfilerReport-1642262970: InProgress\n",
      "......\n",
      "2022-01-15 16:10:55 Starting - Preparing the instances for training............\n",
      "2022-01-15 16:12:56 Downloading - Downloading input data...\n",
      "2022-01-15 16:13:16 Training - Downloading the training image......\n",
      "2022-01-15 16:14:29 Training - Training image download completed. Training in progress..\u001b[34mDocker entrypoint called with argument(s): train\u001b[0m\n",
      "\u001b[34m[01/15/2022 16:14:34 INFO 140524822415168] Reading default configuration from /opt/amazon/lib/python3.7/site-packages/image_classification/default-input.json: {'use_pretrained_model': 0, 'num_layers': 152, 'epochs': 30, 'learning_rate': 0.1, 'lr_scheduler_factor': 0.1, 'optimizer': 'sgd', 'momentum': 0, 'weight_decay': 0.0001, 'beta_1': 0.9, 'beta_2': 0.999, 'eps': 1e-08, 'gamma': 0.9, 'mini_batch_size': 32, 'image_shape': '3,224,224', 'precision_dtype': 'float32'}\u001b[0m\n",
      "\u001b[34m[01/15/2022 16:14:34 INFO 140524822415168] Merging with provided configuration from /opt/ml/input/config/hyperparameters.json: {'num_classes': '2', 'num_training_samples': '500', 'image_shape': '3,32,32'}\u001b[0m\n",
      "\u001b[34m[01/15/2022 16:14:34 INFO 140524822415168] Final configuration: {'use_pretrained_model': 0, 'num_layers': 152, 'epochs': 30, 'learning_rate': 0.1, 'lr_scheduler_factor': 0.1, 'optimizer': 'sgd', 'momentum': 0, 'weight_decay': 0.0001, 'beta_1': 0.9, 'beta_2': 0.999, 'eps': 1e-08, 'gamma': 0.9, 'mini_batch_size': 32, 'image_shape': '3,32,32', 'precision_dtype': 'float32', 'num_classes': '2', 'num_training_samples': '500'}\u001b[0m\n",
      "\u001b[34m[01/15/2022 16:14:34 INFO 140524822415168] Searching for .lst files in /opt/ml/input/data/train_lst.\u001b[0m\n",
      "\u001b[34m[01/15/2022 16:14:34 INFO 140524822415168] Creating record files for train.lst\u001b[0m\n",
      "\u001b[34m[01/15/2022 16:14:35 INFO 140524822415168] Done creating record files...\u001b[0m\n",
      "\u001b[34m[01/15/2022 16:14:35 INFO 140524822415168] Searching for .lst files in /opt/ml/input/data/validation_lst.\u001b[0m\n",
      "\u001b[34m[01/15/2022 16:14:35 INFO 140524822415168] Creating record files for test.lst\u001b[0m\n",
      "\u001b[34m[01/15/2022 16:14:35 INFO 140524822415168] Done creating record files...\u001b[0m\n",
      "\u001b[34m[01/15/2022 16:14:35 INFO 140524822415168] use_pretrained_model: 0\u001b[0m\n",
      "\u001b[34m[01/15/2022 16:14:35 INFO 140524822415168] multi_label: 0\u001b[0m\n",
      "\u001b[34m[01/15/2022 16:14:35 INFO 140524822415168] Performing random weight initialization\u001b[0m\n",
      "\u001b[34m[01/15/2022 16:14:35 INFO 140524822415168] ---- Parameters ----\u001b[0m\n",
      "\u001b[34m[01/15/2022 16:14:35 INFO 140524822415168] num_layers: 152\u001b[0m\n",
      "\u001b[34m[01/15/2022 16:14:35 INFO 140524822415168] data type: <class 'numpy.float32'>\u001b[0m\n",
      "\u001b[34m[01/15/2022 16:14:35 INFO 140524822415168] epochs: 30\u001b[0m\n",
      "\u001b[34m[01/15/2022 16:14:35 INFO 140524822415168] optimizer: sgd\u001b[0m\n",
      "\u001b[34m[01/15/2022 16:14:35 INFO 140524822415168] momentum: 0.9\u001b[0m\n",
      "\u001b[34m[01/15/2022 16:14:35 INFO 140524822415168] weight_decay: 0.0001\u001b[0m\n",
      "\u001b[34m[01/15/2022 16:14:35 INFO 140524822415168] learning_rate: 0.1\u001b[0m\n",
      "\u001b[34m[01/15/2022 16:14:35 INFO 140524822415168] num_training_samples: 500\u001b[0m\n",
      "\u001b[34m[01/15/2022 16:14:35 INFO 140524822415168] mini_batch_size: 32\u001b[0m\n",
      "\u001b[34m[01/15/2022 16:14:35 INFO 140524822415168] image_shape: 3,32,32\u001b[0m\n",
      "\u001b[34m[01/15/2022 16:14:35 INFO 140524822415168] num_classes: 2\u001b[0m\n",
      "\u001b[34m[01/15/2022 16:14:35 INFO 140524822415168] augmentation_type: None\u001b[0m\n",
      "\u001b[34m[01/15/2022 16:14:35 INFO 140524822415168] kv_store: device\u001b[0m\n",
      "\u001b[34m[01/15/2022 16:14:35 INFO 140524822415168] checkpoint_frequency not set, will store the best model\u001b[0m\n",
      "\u001b[34m[01/15/2022 16:14:35 INFO 140524822415168] --------------------\u001b[0m\n",
      "\u001b[34m[01/15/2022 16:14:35 INFO 140524822415168] Setting number of threads: 3\u001b[0m\n",
      "\u001b[34m[16:14:45] /opt/brazil-pkg-cache/packages/AIAlgorithmsMXNet/AIAlgorithmsMXNet-1.3.x_ecl_Cuda_10.1.x.10042.0/AL2_x86_64/generic-flavor/src/src/operator/nn/./cudnn/./cudnn_algoreg-inl.h:97: Running performance tests to find the best convolution algorithm, this can take a while... (setting env variable MXNET_CUDNN_AUTOTUNE_DEFAULT to 0 to disable)\u001b[0m\n",
      "\u001b[34m[01/15/2022 16:15:00 INFO 140524822415168] Epoch[0] Train-accuracy=0.531250\u001b[0m\n",
      "\u001b[34m[01/15/2022 16:15:00 INFO 140524822415168] Epoch[0] Time cost=15.656\u001b[0m\n",
      "\u001b[34m[01/15/2022 16:15:02 INFO 140524822415168] Epoch[0] Validation-accuracy=0.494792\u001b[0m\n",
      "\u001b[34m[01/15/2022 16:15:02 INFO 140524822415168] Storing the best model with validation accuracy: 0.494792\u001b[0m\n",
      "\u001b[34m[01/15/2022 16:15:03 INFO 140524822415168] Saved checkpoint to \"/opt/ml/model/image-classification-0001.params\"\u001b[0m\n",
      "\u001b[34m[01/15/2022 16:15:11 INFO 140524822415168] Epoch[1] Train-accuracy=0.670833\u001b[0m\n",
      "\u001b[34m[01/15/2022 16:15:11 INFO 140524822415168] Epoch[1] Time cost=8.318\u001b[0m\n",
      "\u001b[34m[01/15/2022 16:15:13 INFO 140524822415168] Epoch[1] Validation-accuracy=0.500000\u001b[0m\n",
      "\u001b[34m[01/15/2022 16:15:13 INFO 140524822415168] Storing the best model with validation accuracy: 0.500000\u001b[0m\n",
      "\u001b[34m[01/15/2022 16:15:13 INFO 140524822415168] Saved checkpoint to \"/opt/ml/model/image-classification-0002.params\"\u001b[0m\n",
      "\u001b[34m[01/15/2022 16:15:22 INFO 140524822415168] Epoch[2] Train-accuracy=0.675000\u001b[0m\n",
      "\u001b[34m[01/15/2022 16:15:22 INFO 140524822415168] Epoch[2] Time cost=8.587\u001b[0m\n",
      "\u001b[34m[01/15/2022 16:15:23 INFO 140524822415168] Epoch[2] Validation-accuracy=0.546875\u001b[0m\n",
      "\u001b[34m[01/15/2022 16:15:24 INFO 140524822415168] Storing the best model with validation accuracy: 0.546875\u001b[0m\n",
      "\u001b[34m[01/15/2022 16:15:24 INFO 140524822415168] Saved checkpoint to \"/opt/ml/model/image-classification-0003.params\"\u001b[0m\n",
      "\u001b[34m[01/15/2022 16:15:32 INFO 140524822415168] Epoch[3] Train-accuracy=0.697917\u001b[0m\n",
      "\u001b[34m[01/15/2022 16:15:32 INFO 140524822415168] Epoch[3] Time cost=8.159\u001b[0m\n",
      "\u001b[34m[01/15/2022 16:15:34 INFO 140524822415168] Epoch[3] Validation-accuracy=0.750000\u001b[0m\n",
      "\u001b[34m[01/15/2022 16:15:34 INFO 140524822415168] Storing the best model with validation accuracy: 0.750000\u001b[0m\n",
      "\u001b[34m[01/15/2022 16:15:35 INFO 140524822415168] Saved checkpoint to \"/opt/ml/model/image-classification-0004.params\"\u001b[0m\n",
      "\u001b[34m[01/15/2022 16:15:43 INFO 140524822415168] Epoch[4] Train-accuracy=0.754167\u001b[0m\n",
      "\u001b[34m[01/15/2022 16:15:43 INFO 140524822415168] Epoch[4] Time cost=8.152\u001b[0m\n",
      "\u001b[34m[01/15/2022 16:15:44 INFO 140524822415168] Epoch[4] Validation-accuracy=0.760417\u001b[0m\n",
      "\u001b[34m[01/15/2022 16:15:45 INFO 140524822415168] Storing the best model with validation accuracy: 0.760417\u001b[0m\n",
      "\u001b[34m[01/15/2022 16:15:45 INFO 140524822415168] Saved checkpoint to \"/opt/ml/model/image-classification-0005.params\"\u001b[0m\n",
      "\u001b[34m[01/15/2022 16:15:53 INFO 140524822415168] Epoch[5] Train-accuracy=0.745833\u001b[0m\n",
      "\u001b[34m[01/15/2022 16:15:53 INFO 140524822415168] Epoch[5] Time cost=8.129\u001b[0m\n",
      "\u001b[34m[01/15/2022 16:15:55 INFO 140524822415168] Epoch[5] Validation-accuracy=0.708333\u001b[0m\n",
      "\u001b[34m[01/15/2022 16:16:04 INFO 140524822415168] Epoch[6] Train-accuracy=0.718750\u001b[0m\n",
      "\u001b[34m[01/15/2022 16:16:04 INFO 140524822415168] Epoch[6] Time cost=8.211\u001b[0m\n",
      "\u001b[34m[01/15/2022 16:16:05 INFO 140524822415168] Epoch[6] Validation-accuracy=0.760417\u001b[0m\n",
      "\u001b[34m[01/15/2022 16:16:14 INFO 140524822415168] Epoch[7] Train-accuracy=0.760417\u001b[0m\n",
      "\u001b[34m[01/15/2022 16:16:14 INFO 140524822415168] Epoch[7] Time cost=8.154\u001b[0m\n",
      "\u001b[34m[01/15/2022 16:16:16 INFO 140524822415168] Epoch[7] Validation-accuracy=0.705357\u001b[0m\n",
      "\u001b[34m[01/15/2022 16:16:24 INFO 140524822415168] Epoch[8] Train-accuracy=0.737500\u001b[0m\n",
      "\u001b[34m[01/15/2022 16:16:24 INFO 140524822415168] Epoch[8] Time cost=8.296\u001b[0m\n",
      "\u001b[34m[01/15/2022 16:16:26 INFO 140524822415168] Epoch[8] Validation-accuracy=0.750000\u001b[0m\n",
      "\u001b[34m[01/15/2022 16:16:35 INFO 140524822415168] Epoch[9] Train-accuracy=0.793750\u001b[0m\n",
      "\u001b[34m[01/15/2022 16:16:35 INFO 140524822415168] Epoch[9] Time cost=8.161\u001b[0m\n",
      "\u001b[34m[01/15/2022 16:16:36 INFO 140524822415168] Epoch[9] Validation-accuracy=0.802083\u001b[0m\n",
      "\u001b[34m[01/15/2022 16:16:36 INFO 140524822415168] Storing the best model with validation accuracy: 0.802083\u001b[0m\n",
      "\u001b[34m[01/15/2022 16:16:37 INFO 140524822415168] Saved checkpoint to \"/opt/ml/model/image-classification-0010.params\"\u001b[0m\n",
      "\u001b[34m[01/15/2022 16:16:45 INFO 140524822415168] Epoch[10] Train-accuracy=0.795833\u001b[0m\n",
      "\u001b[34m[01/15/2022 16:16:45 INFO 140524822415168] Epoch[10] Time cost=8.147\u001b[0m\n",
      "\u001b[34m[01/15/2022 16:16:46 INFO 140524822415168] Epoch[10] Validation-accuracy=0.828125\u001b[0m\n",
      "\u001b[34m[01/15/2022 16:16:47 INFO 140524822415168] Storing the best model with validation accuracy: 0.828125\u001b[0m\n",
      "\u001b[34m[01/15/2022 16:16:47 INFO 140524822415168] Saved checkpoint to \"/opt/ml/model/image-classification-0011.params\"\u001b[0m\n",
      "\u001b[34m[01/15/2022 16:16:55 INFO 140524822415168] Epoch[11] Train-accuracy=0.783333\u001b[0m\n",
      "\u001b[34m[01/15/2022 16:16:55 INFO 140524822415168] Epoch[11] Time cost=8.148\u001b[0m\n",
      "\u001b[34m[01/15/2022 16:16:57 INFO 140524822415168] Epoch[11] Validation-accuracy=0.723214\u001b[0m\n",
      "\u001b[34m[01/15/2022 16:17:06 INFO 140524822415168] Epoch[12] Train-accuracy=0.802083\u001b[0m\n",
      "\u001b[34m[01/15/2022 16:17:06 INFO 140524822415168] Epoch[12] Time cost=8.310\u001b[0m\n",
      "\u001b[34m[01/15/2022 16:17:07 INFO 140524822415168] Epoch[12] Validation-accuracy=0.708333\u001b[0m\n",
      "\u001b[34m[01/15/2022 16:17:16 INFO 140524822415168] Epoch[13] Train-accuracy=0.752083\u001b[0m\n",
      "\u001b[34m[01/15/2022 16:17:16 INFO 140524822415168] Epoch[13] Time cost=8.156\u001b[0m\n",
      "\u001b[34m[01/15/2022 16:17:17 INFO 140524822415168] Epoch[13] Validation-accuracy=0.718750\u001b[0m\n",
      "\u001b[34m[01/15/2022 16:17:26 INFO 140524822415168] Epoch[14] Train-accuracy=0.800000\u001b[0m\n",
      "\u001b[34m[01/15/2022 16:17:26 INFO 140524822415168] Epoch[14] Time cost=8.256\u001b[0m\n",
      "\u001b[34m[01/15/2022 16:17:28 INFO 140524822415168] Epoch[14] Validation-accuracy=0.791667\u001b[0m\n",
      "\u001b[34m[01/15/2022 16:17:37 INFO 140524822415168] Epoch[15] Train-accuracy=0.779167\u001b[0m\n",
      "\u001b[34m[01/15/2022 16:17:37 INFO 140524822415168] Epoch[15] Time cost=8.160\u001b[0m\n",
      "\u001b[34m[01/15/2022 16:17:38 INFO 140524822415168] Epoch[15] Validation-accuracy=0.799107\u001b[0m\n",
      "\u001b[34m[01/15/2022 16:17:47 INFO 140524822415168] Epoch[16] Train-accuracy=0.814583\u001b[0m\n",
      "\u001b[34m[01/15/2022 16:17:47 INFO 140524822415168] Epoch[16] Time cost=8.152\u001b[0m\n",
      "\u001b[34m[01/15/2022 16:17:48 INFO 140524822415168] Epoch[16] Validation-accuracy=0.765625\u001b[0m\n",
      "\u001b[34m[01/15/2022 16:17:57 INFO 140524822415168] Epoch[17] Train-accuracy=0.810417\u001b[0m\n",
      "\u001b[34m[01/15/2022 16:17:57 INFO 140524822415168] Epoch[17] Time cost=8.149\u001b[0m\n",
      "\u001b[34m[01/15/2022 16:17:59 INFO 140524822415168] Epoch[17] Validation-accuracy=0.812500\u001b[0m\n",
      "\u001b[34m[01/15/2022 16:18:07 INFO 140524822415168] Epoch[18] Train-accuracy=0.754167\u001b[0m\n",
      "\u001b[34m[01/15/2022 16:18:07 INFO 140524822415168] Epoch[18] Time cost=8.243\u001b[0m\n",
      "\u001b[34m[01/15/2022 16:18:09 INFO 140524822415168] Epoch[18] Validation-accuracy=0.713542\u001b[0m\n",
      "\u001b[34m[01/15/2022 16:18:18 INFO 140524822415168] Epoch[19] Train-accuracy=0.825000\u001b[0m\n",
      "\u001b[34m[01/15/2022 16:18:18 INFO 140524822415168] Epoch[19] Time cost=8.187\u001b[0m\n",
      "\u001b[34m[01/15/2022 16:18:19 INFO 140524822415168] Epoch[19] Validation-accuracy=0.767857\u001b[0m\n",
      "\u001b[34m[01/15/2022 16:18:28 INFO 140524822415168] Epoch[20] Train-accuracy=0.856250\u001b[0m\n",
      "\u001b[34m[01/15/2022 16:18:28 INFO 140524822415168] Epoch[20] Time cost=8.187\u001b[0m\n",
      "\u001b[34m[01/15/2022 16:18:29 INFO 140524822415168] Epoch[20] Validation-accuracy=0.838542\u001b[0m\n",
      "\u001b[34m[01/15/2022 16:18:30 INFO 140524822415168] Storing the best model with validation accuracy: 0.838542\u001b[0m\n",
      "\u001b[34m[01/15/2022 16:18:30 INFO 140524822415168] Saved checkpoint to \"/opt/ml/model/image-classification-0021.params\"\u001b[0m\n",
      "\u001b[34m[01/15/2022 16:18:38 INFO 140524822415168] Epoch[21] Train-accuracy=0.856250\u001b[0m\n",
      "\u001b[34m[01/15/2022 16:18:38 INFO 140524822415168] Epoch[21] Time cost=8.124\u001b[0m\n",
      "\u001b[34m[01/15/2022 16:18:40 INFO 140524822415168] Epoch[21] Validation-accuracy=0.843750\u001b[0m\n",
      "\u001b[34m[01/15/2022 16:18:40 INFO 140524822415168] Storing the best model with validation accuracy: 0.843750\u001b[0m\n",
      "\u001b[34m[01/15/2022 16:18:40 INFO 140524822415168] Saved checkpoint to \"/opt/ml/model/image-classification-0022.params\"\u001b[0m\n",
      "\u001b[34m[01/15/2022 16:18:49 INFO 140524822415168] Epoch[22] Train-accuracy=0.825000\u001b[0m\n",
      "\u001b[34m[01/15/2022 16:18:49 INFO 140524822415168] Epoch[22] Time cost=8.134\u001b[0m\n",
      "\u001b[34m[01/15/2022 16:18:50 INFO 140524822415168] Epoch[22] Validation-accuracy=0.765625\u001b[0m\n",
      "\u001b[34m[01/15/2022 16:18:59 INFO 140524822415168] Epoch[23] Train-accuracy=0.820833\u001b[0m\n",
      "\u001b[34m[01/15/2022 16:18:59 INFO 140524822415168] Epoch[23] Time cost=8.119\u001b[0m\n",
      "\u001b[34m[01/15/2022 16:19:00 INFO 140524822415168] Epoch[23] Validation-accuracy=0.821429\u001b[0m\n",
      "\u001b[34m[01/15/2022 16:19:09 INFO 140524822415168] Epoch[24] Train-accuracy=0.837500\u001b[0m\n",
      "\u001b[34m[01/15/2022 16:19:09 INFO 140524822415168] Epoch[24] Time cost=8.264\u001b[0m\n",
      "\u001b[34m[01/15/2022 16:19:11 INFO 140524822415168] Epoch[24] Validation-accuracy=0.807292\u001b[0m\n",
      "\u001b[34m[01/15/2022 16:19:19 INFO 140524822415168] Epoch[25] Train-accuracy=0.850000\u001b[0m\n",
      "\u001b[34m[01/15/2022 16:19:19 INFO 140524822415168] Epoch[25] Time cost=8.254\u001b[0m\n",
      "\u001b[34m[01/15/2022 16:19:21 INFO 140524822415168] Epoch[25] Validation-accuracy=0.854167\u001b[0m\n",
      "\u001b[34m[01/15/2022 16:19:21 INFO 140524822415168] Storing the best model with validation accuracy: 0.854167\u001b[0m\n",
      "\u001b[34m[01/15/2022 16:19:22 INFO 140524822415168] Saved checkpoint to \"/opt/ml/model/image-classification-0026.params\"\u001b[0m\n",
      "\u001b[34m[01/15/2022 16:19:30 INFO 140524822415168] Epoch[26] Train-accuracy=0.850000\u001b[0m\n",
      "\u001b[34m[01/15/2022 16:19:30 INFO 140524822415168] Epoch[26] Time cost=8.124\u001b[0m\n",
      "\u001b[34m[01/15/2022 16:19:31 INFO 140524822415168] Epoch[26] Validation-accuracy=0.838542\u001b[0m\n",
      "\u001b[34m[01/15/2022 16:19:40 INFO 140524822415168] Epoch[27] Train-accuracy=0.852083\u001b[0m\n",
      "\u001b[34m[01/15/2022 16:19:40 INFO 140524822415168] Epoch[27] Time cost=8.183\u001b[0m\n",
      "\u001b[34m[01/15/2022 16:19:42 INFO 140524822415168] Epoch[27] Validation-accuracy=0.848214\u001b[0m\n",
      "\u001b[34m[01/15/2022 16:19:50 INFO 140524822415168] Epoch[28] Train-accuracy=0.864583\u001b[0m\n",
      "\u001b[34m[01/15/2022 16:19:50 INFO 140524822415168] Epoch[28] Time cost=8.208\u001b[0m\n",
      "\u001b[34m[01/15/2022 16:19:52 INFO 140524822415168] Epoch[28] Validation-accuracy=0.786458\u001b[0m\n",
      "\n",
      "2022-01-15 16:20:04 Uploading - Uploading generated training model\u001b[34m[01/15/2022 16:20:00 INFO 140524822415168] Epoch[29] Train-accuracy=0.864583\u001b[0m\n",
      "\u001b[34m[01/15/2022 16:20:00 INFO 140524822415168] Epoch[29] Time cost=8.207\u001b[0m\n",
      "\u001b[34m[01/15/2022 16:20:02 INFO 140524822415168] Epoch[29] Validation-accuracy=0.822917\u001b[0m\n",
      "\n",
      "2022-01-15 16:20:43 Completed - Training job completed\n",
      "Training seconds: 474\n",
      "Billable seconds: 474\n"
     ]
    }
   ],
   "source": [
    "## TODO: train your model\n",
    "img_classifier_model.fit(model_inputs)"
   ]
  },
  {
   "cell_type": "markdown",
   "metadata": {},
   "source": [
    "If all goes well, you'll end up with a model topping out above `.8` validation accuracy. With only 1000 training samples in the CIFAR dataset, that's pretty good. We could definitely pursue data augmentation & gathering more samples to help us improve further, but for now let's proceed to deploy our model.\n",
    "\n",
    "### Getting ready to deploy\n",
    "\n",
    "To begin with, let's configure Model Monitor to track our deployment. We'll define a `DataCaptureConfig` below:"
   ]
  },
  {
   "cell_type": "code",
   "execution_count": 14,
   "metadata": {},
   "outputs": [],
   "source": [
    "from sagemaker.model_monitor import DataCaptureConfig\n",
    "\n",
    "data_capture_config = DataCaptureConfig(\n",
    "    enable_capture=True,\n",
    "    sampling_percentage=50,\n",
    "    ## TODO: Set config options\n",
    "    destination_s3_uri=f\"s3://{bucket}/data_capture\"\n",
    ")"
   ]
  },
  {
   "cell_type": "markdown",
   "metadata": {},
   "source": [
    "Note the `destination_s3_uri` parameter: At the end of the project, we can explore the `data_capture` directory in S3 to find crucial data about the inputs and outputs Model Monitor has observed on our model endpoint over time.\n",
    "\n",
    "With that done, deploy your model on a single `ml.m5.xlarge` instance with the data capture config attached:"
   ]
  },
  {
   "cell_type": "code",
   "execution_count": 15,
   "metadata": {},
   "outputs": [
    {
     "name": "stdout",
     "output_type": "stream",
     "text": [
      "---------------!image-classification-2022-01-15-16-23-39-109\n"
     ]
    }
   ],
   "source": [
    "deployment = img_classifier_model.deploy(\n",
    "    ## TODO: fill in deployment options\n",
    "    initial_instance_count=1, \n",
    "    instance_type='ml.m5.xlarge',\n",
    "    data_capture_config=data_capture_config\n",
    "    )\n",
    "\n",
    "endpoint = deployment.endpoint_name\n",
    "print(endpoint)"
   ]
  },
  {
   "cell_type": "markdown",
   "metadata": {},
   "source": [
    "Note the endpoint name for later as well.\n",
    "\n",
    "Next, instantiate a Predictor:"
   ]
  },
  {
   "cell_type": "code",
   "execution_count": 16,
   "metadata": {},
   "outputs": [],
   "source": [
    "from sagemaker.predictor import Predictor\n",
    "import json\n",
    "\n",
    "predictor = Predictor(\"image-classification-2022-01-15-16-23-39-109\")## TODO: fill in"
   ]
  },
  {
   "cell_type": "markdown",
   "metadata": {},
   "source": [
    "In the code snippet below we are going to prepare one of your saved images for prediction. Use the predictor to process the `payload`."
   ]
  },
  {
   "cell_type": "code",
   "execution_count": 17,
   "metadata": {},
   "outputs": [],
   "source": [
    "from sagemaker.serializers import IdentitySerializer\n",
    "import base64\n",
    "\n",
    "predictor.serializer = IdentitySerializer(\"image/png\")\n",
    "with open(\"./test/bicycle_s_001789.png\", \"rb\") as f:\n",
    "    payload = f.read()\n",
    "\n",
    "    \n",
    "inference = predictor.predict(payload)## TODO: Process the payload with your predictor"
   ]
  },
  {
   "cell_type": "markdown",
   "metadata": {},
   "source": [
    "Your `inference` object is an array of two values, the predicted probability value for each of your classes (bicycle and motorcycle respectively.) So, for example, a value of `b'[0.91, 0.09]'` indicates the probability of being a bike is 91% and being a motorcycle is 9%."
   ]
  },
  {
   "cell_type": "code",
   "execution_count": 18,
   "metadata": {},
   "outputs": [
    {
     "name": "stdout",
     "output_type": "stream",
     "text": [
      "b'[0.9680866003036499, 0.031913407146930695]'\n"
     ]
    }
   ],
   "source": [
    "print(inference)"
   ]
  },
  {
   "cell_type": "markdown",
   "metadata": {},
   "source": [
    "### Draft Lambdas and Step Function Workflow\n",
    "\n",
    "Your operations team uses Step Functions to orchestrate serverless workflows. One of the nice things about Step Functions is that [workflows can call other workflows](https://docs.aws.amazon.com/step-functions/latest/dg/connect-stepfunctions.html), so the team can easily plug your workflow into the broader production architecture for Scones Unlimited.\n",
    "\n",
    "In this next stage you're going to write and deploy three Lambda functions, and then use the Step Functions visual editor to chain them together! Our functions are going to work with a simple data object:\n",
    "\n",
    "```python\n",
    "{\n",
    "    \"inferences\": [], # Output of predictor.predict\n",
    "    \"s3_key\": \"\", # Source data S3 key\n",
    "    \"s3_bucket\": \"\", # Source data S3 bucket\n",
    "    \"image_data\": \"\"  # base64 encoded string containing the image data\n",
    "}\n",
    "```\n",
    "\n",
    "A good test object that you can use for Lambda tests and Step Function executions, throughout the next section, might look like this:\n",
    "\n",
    "```python\n",
    "{\n",
    "  \"image_data\": \"\",\n",
    "  \"s3_bucket\": MY_BUCKET_NAME, # Fill in with your bucket\n",
    "  \"s3_key\": \"test/bicycle_s_000513.png\"\n",
    "}\n",
    "```\n",
    "\n",
    "Using these fields, your functions can read and write the necessary data to execute your workflow. Let's start with the first function. Your first Lambda function will copy an object from S3, base64 encode it, and then return it to the step function as `image_data` in an event.\n",
    "\n",
    "Go to the Lambda dashboard and create a new Lambda function with a descriptive name like \"serializeImageData\" and select thr 'Python 3.8' runtime. Add the same permissions as the SageMaker role you created earlier. (Reminder: you do this in the Configuration tab under \"Permissions\"). Once you're ready, use the starter code below to craft your Lambda handler:\n",
    "\n",
    "```python\n",
    "import json\n",
    "import boto3\n",
    "import base64\n",
    "\n",
    "s3 = boto3.client('s3')\n",
    "\n",
    "def lambda_handler(event, context):\n",
    "    \"\"\"A function to serialize target data from S3\"\"\"\n",
    "    \n",
    "    # Get the s3 address from the Step Function event input\n",
    "    key = event['s3_key']## TODO: fill in\n",
    "    bucket = event['s3_bucket']## TODO: fill in\n",
    "    \n",
    "    # Download the data from s3 to /tmp/image.png\n",
    "    ## TODO: fill in\n",
    "    \n",
    "    # We read the data from a file\n",
    "    with open(\"/tmp/image.png\", \"rb\") as f:\n",
    "        image_data = base64.b64encode(f.read())\n",
    "\n",
    "    # Pass the data back to the Step Function\n",
    "    print(\"Event:\", event.keys())\n",
    "    return {\n",
    "        'statusCode': 200,\n",
    "        'body': {\n",
    "            \"image_data\": image_data,\n",
    "            \"s3_bucket\": bucket,\n",
    "            \"s3_key\": key,\n",
    "            \"inferences\": []\n",
    "        }\n",
    "    }\n",
    "```\n",
    "\n",
    "The next function is responsible for the classification part - we're going to take the image output from the previous function, decode it, and then pass inferences back to the the Step Function.\n",
    "\n",
    "Because this Lambda will have runtime dependencies (i.e. the SageMaker SDK) you'll need to package them in your function. *Key reading:* https://docs.aws.amazon.com/lambda/latest/dg/python-package-create.html#python-package-create-with-dependency\n",
    "\n",
    "Create a new Lambda function with the same rights and a descriptive name, then fill in the starter code below for your classifier Lambda.\n",
    "\n",
    "```python\n",
    "import json\n",
    "import sagemaker\n",
    "import base64\n",
    "from sagemaker.serializers import IdentitySerializer\n",
    "\n",
    "# Fill this in with the name of your deployed model\n",
    "ENDPOINT = 'image-classification-2022-01-12-11-45-13-993' ## TODO: fill in\n",
    "\n",
    "def lambda_handler(event, context):\n",
    "\n",
    "    # Decode the image data\n",
    "    #image = base64.b64decode(## TODO: fill in)\n",
    "\n",
    "    # Instantiate a Predictor\n",
    "    #predictor = ## TODO: fill in\n",
    "\n",
    "    # For this model the IdentitySerializer needs to be \"image/png\"\n",
    "    #predictor.serializer = IdentitySerializer(\"image/png\")\n",
    "    \n",
    "    # Make a prediction:\n",
    "    #inferences = ## TODO: fill in\n",
    "    \n",
    "    def lambda_handler(event, context):\n",
    "    \n",
    "    print(event)\n",
    "    image = base64.b64decode(event['image_data'])\n",
    "    \n",
    "\n",
    "    response = runtime.invoke_endpoint (EndpointName=ENDPOINT, \n",
    "                ContentType='image/png',                                        \n",
    "                Body=image\n",
    "        )\n",
    "                \n",
    "    inferences = json.loads(response['Body'].read())            \n",
    "    \n",
    "    # We return the data back to the Step Function    \n",
    "    event[\"inferences\"] = inferences.decode('utf-8')\n",
    "    return {\n",
    "        'statusCode': 200,\n",
    "        'body': json.dumps(event)\n",
    "    }\n",
    "```\n",
    "\n",
    "Finally, we need to filter low-confidence inferences. Define a threshold between 1.00 and 0.000 for your model: what is reasonble for you? If the model predicts at `.70` for it's highest confidence label, do we want to pass that inference along to downstream systems? Make one last Lambda function and tee up the same permissions:\n",
    "\n",
    "```python\n",
    "import json\n",
    "\n",
    "\n",
    "THRESHOLD = .93\n",
    "\n",
    "\n",
    "def lambda_handler(event, context):\n",
    "    \n",
    "    # Grab the inferences from the event\n",
    "    inferences = ## TODO: fill in\n",
    "    \n",
    "    # Check if any values in our inferences are above THRESHOLD\n",
    "    meets_threshold = ## TODO: fill in\n",
    "    \n",
    "    # If our threshold is met, pass our data back out of the\n",
    "    # Step Function, else, end the Step Function with an error\n",
    "    if meets_threshold:\n",
    "        pass\n",
    "    else:\n",
    "        raise(\"THRESHOLD_CONFIDENCE_NOT_MET\")\n",
    "\n",
    "    return {\n",
    "        'statusCode': 200,\n",
    "        'body': json.dumps(event)\n",
    "    }\n",
    "```\n",
    "Once you have tested the lambda functions, save the code for each lambda function in a python script called 'lambda.py'.\n",
    "\n",
    "With your lambdas in place, you can use the Step Functions visual editor to construct a workflow that chains them together. In the Step Functions console you'll have the option to author a Standard step function *Visually*.\n",
    "\n",
    "When the visual editor opens, you'll have many options to add transitions in your workflow. We're going to keep it simple and have just one: to invoke Lambda functions. Add three of them chained together. For each one, you'll be able to select the Lambda functions you just created in the proper order, filter inputs and outputs, and give them descriptive names.\n",
    "\n",
    "Make sure that you:\n",
    "\n",
    "1. Are properly filtering the inputs and outputs of your invokations (e.g. `$.body`)\n",
    "2. Take care to remove the error handling from the last function - it's supposed to \"fail loudly\" for your operations colleagues!\n",
    "\n",
    "Take a screenshot of your working step function in action and export the step function as JSON for your submission package."
   ]
  },
  {
   "cell_type": "markdown",
   "metadata": {},
   "source": [
    "\n",
    "Great! Now you can use the files in `./test` as test files for our workflow. Depending on our threshold, our workflow should reliably pass predictions about images from `./test` on to downstream systems, while erroring out for inferences below our confidence threshold!\n",
    "\n",
    "### Testing and Evaluation\n",
    "\n",
    "Do several step function invokations using data from the `./test` folder. This process should give you confidence that the workflow both *succeeds* AND *fails* as expected. In addition, SageMaker Model Monitor will generate recordings of your data and inferences which we can visualize.\n",
    "\n",
    "Here's a function that can help you generate test inputs for your invokations:"
   ]
  },
  {
   "cell_type": "code",
   "execution_count": 19,
   "metadata": {},
   "outputs": [
    {
     "data": {
      "text/plain": [
       "'{\"image_data\": \"\", \"s3_bucket\": \"sagemaker-studio-unwwfklhove\", \"s3_key\": \"test/bike_s_000694.png\"}'"
      ]
     },
     "execution_count": 19,
     "metadata": {},
     "output_type": "execute_result"
    }
   ],
   "source": [
    "import random\n",
    "import boto3\n",
    "import json\n",
    "\n",
    "\n",
    "def generate_test_case():\n",
    "    # Setup s3 in boto3\n",
    "    s3 = boto3.resource('s3')\n",
    "    \n",
    "    # Randomly pick from sfn or test folders in our bucket\n",
    "    objects = s3.Bucket(bucket).objects.filter(Prefix=\"test\")\n",
    "    \n",
    "    # Grab any random object key from that folder!\n",
    "    obj = random.choice([x.key for x in objects])\n",
    "    \n",
    "    return json.dumps({\n",
    "        \"image_data\": \"\",\n",
    "        \"s3_bucket\": bucket,\n",
    "        \"s3_key\": obj\n",
    "    })\n",
    "generate_test_case()"
   ]
  },
  {
   "cell_type": "markdown",
   "metadata": {},
   "source": [
    "In the Step Function dashboard for your new function, you can create new executions and copy in the generated test cases. Do several executions so that you can generate data you can evaluate and visualize.\n",
    "\n",
    "Once you've done several executions, let's visualize the record of our inferences. Pull in the JSONLines data from your inferences like so:"
   ]
  },
  {
   "cell_type": "code",
   "execution_count": 16,
   "metadata": {},
   "outputs": [],
   "source": [
    "from sagemaker.s3 import S3Downloader\n",
    "\n",
    "# In S3 your data will be saved to a datetime-aware path\n",
    "# Find a path related to a datetime you're interested in\n",
    "data_path = 's3://sagemaker-studio-unwwfklhove/data_capture/image-classification-2022-01-13-06-16-09-113/AllTraffic/2022/01/13/07/00-04-817-e5f6dd27-011d-4cc4-9206-8f27a851d853.jsonl'## TODO: fill in the path to your captured data\n",
    "\n",
    "S3Downloader.download(data_path, \"data_capture1\")\n",
    "\n",
    "# Feel free to repeat this multiple times and pull in more data"
   ]
  },
  {
   "cell_type": "code",
   "execution_count": 24,
   "metadata": {},
   "outputs": [],
   "source": [
    "from sagemaker.s3 import S3Downloader\n",
    "\n",
    "# In S3 your data will be saved to a datetime-aware path\n",
    "# Find a path related to a datetime you're interested in\n",
    "data_path = 's3://sagemaker-studio-unwwfklhove/data_capture/image-classification-2022-01-15-12-57-09-484/AllTraffic/2022/01/15/14/01-48-176-1371e714-de09-4b3e-ab83-871f8a72055d.jsonl'## TODO: fill in the path to your captured data\n",
    "\n",
    "S3Downloader.download(data_path, \"data_capture1\")\n",
    "\n",
    "# Feel free to repeat this multiple times and pull in more data"
   ]
  },
  {
   "cell_type": "code",
   "execution_count": null,
   "metadata": {},
   "outputs": [],
   "source": [
    "from sagemaker.s3 import S3Downloader\n",
    "\n",
    "# In S3 your data will be saved to a datetime-aware path\n",
    "# Find a path related to a datetime you're interested in\n",
    "data_path = 's3://sagemaker-studio-unwwfklhove/data_capture/image-classification-2022-01-14-11-59-47-513/AllTraffic/2022/01/14/12/56-45-678-91950a44-52a6-47f2-9ade-74d57a9578ce.jsonl'## TODO: fill in the path to your captured data\n",
    "\n",
    "S3Downloader.download(data_path, \"data_capture1\")\n",
    "\n",
    "# Feel free to repeat this multiple times and pull in more datas3://sagemaker-studio-unwwfklhove/data_capture/image-classification-2022-01-15-12-57-09-484/AllTraffic/2022/01/15/14/01-48-176-1371e714-de09-4b3e-ab83-871f8a72055d.jsonl"
   ]
  },
  {
   "cell_type": "code",
   "execution_count": 25,
   "metadata": {},
   "outputs": [],
   "source": [
    "from sagemaker.s3 import S3Downloader\n",
    "\n",
    "# In S3 your data will be saved to a datetime-aware path\n",
    "# Find a path related to a datetime you're interested in\n",
    "data_path = 's3://sagemaker-studio-unwwfklhove/data_capture/image-classification-2022-01-14-11-59-47-513/AllTraffic/2022/01/14/12/46-13-912-0e6e4505-04b5-42ee-b8e9-2bffa5eb14e6.jsonl'## TODO: fill in the path to your captured data\n",
    "\n",
    "S3Downloader.download(data_path, \"data_capture1\")\n",
    "\n",
    "# Feel free to repeat this multiple times and pull in more data"
   ]
  },
  {
   "cell_type": "code",
   "execution_count": 35,
   "metadata": {},
   "outputs": [],
   "source": [
    "data_path = 's3://sagemaker-studio-unwwfklhove/data_capture/image-classification-2022-01-14-11-59-47-513/AllTraffic/2022/01/14/12/56-45-678-91950a44-52a6-47f2-9ade-74d57a9578ce.jsonl'## TODO: fill in the path to your captured data\n",
    "\n",
    "S3Downloader.download(data_path, \"data_capture1\")\n",
    "\n",
    "data_path = 's3://sagemaker-studio-unwwfklhove/data_capture/image-classification-2022-01-14-11-59-47-513/AllTraffic/2022/01/14/12/46-13-912-0e6e4505-04b5-42ee-b8e9-2bffa5eb14e6.jsonl'## TODO: fill in the path to your captured data\n",
    "\n",
    "S3Downloader.download(data_path, \"data_capture1\")\n",
    "\n",
    "data_path = 's3://sagemaker-studio-unwwfklhove/data_capture/image-classification-2022-01-14-11-59-47-513/AllTraffic/2022/01/14/12/38-52-644-e6dc73df-d422-41e9-ae4d-5bfcb9974446.jsonl'## TODO: fill in the path to your captured data\n",
    "\n",
    "S3Downloader.download(data_path, \"data_capture1\")\n",
    "\n",
    "data_path = 's3://sagemaker-studio-unwwfklhove/data_capture/image-classification-2022-01-14-11-59-47-513/AllTraffic/2022/01/14/12/36-46-702-dcaddccd-cd77-41e9-9c09-1d549d5d21e2.jsonl'## TODO: fill in the path to your captured data\n",
    "\n",
    "S3Downloader.download(data_path, \"data_capture1\")\n",
    "\n"
   ]
  },
  {
   "cell_type": "code",
   "execution_count": 36,
   "metadata": {},
   "outputs": [],
   "source": [
    "data_path = 's3://sagemaker-studio-unwwfklhove/data_capture/image-classification-2022-01-14-11-59-47-513/AllTraffic/2022/01/14/12/27-13-082-4cec806b-b9d6-4e6f-ba10-28c46cd4c5fb.jsonl'## TODO: fill in the path to your captured data\n",
    "\n",
    "S3Downloader.download(data_path, \"data_capture1\")\n"
   ]
  },
  {
   "cell_type": "code",
   "execution_count": 28,
   "metadata": {},
   "outputs": [],
   "source": [
    "from sagemaker.s3 import S3Downloader\n",
    "\n",
    "# In S3 your data will be saved to a datetime-aware path\n",
    "# Find a path related to a datetime you're interested in\n",
    "data_path = 's3://sagemaker-studio-unwwfklhove/data_capture/image-classification-2022-01-15-12-57-09-484/AllTraffic/2022/01/15/14/01-48-176-1371e714-de09-4b3e-ab83-871f8a72055d.jsonl'## TODO: fill in the path to your captured data\n",
    "\n",
    "S3Downloader.download(data_path, \"data_capture1\")\n",
    "\n",
    "# Feel free to repeat this multiple times and pull in more data\n",
    "\n",
    "from sagemaker.s3 import S3Downloader\n",
    "\n",
    "# In S3 your data will be saved to a datetime-aware path\n",
    "# Find a path related to a datetime you're interested in\n",
    "data_path = 's3://sagemaker-studio-unwwfklhove/data_capture/image-classification-2022-01-14-11-59-47-513/AllTraffic/2022/01/14/12/36-46-702-dcaddccd-cd77-41e9-9c09-1d549d5d21e2.jsonl'## TODO: fill in the path to your captured data\n",
    "\n",
    "S3Downloader.download(data_path, \"data_capture1\")\n",
    "\n",
    "# Feel free to repeat this multiple times and pull in more data\n",
    "\n",
    "from sagemaker.s3 import S3Downloader\n",
    "\n",
    "# In S3 your data will be saved to a datetime-aware path\n",
    "# Find a path related to a datetime you're interested in\n",
    "#data_path = 's3://sagemaker-studio-unwwfklhove.s3.amazonaws.com/data_capture/image-classification-2022-01-14-11-59-47-513/AllTraffic/2022/01/14/12/27-13-082-4cec806b-b9d6-4e6f-ba10-28c46cd4c5fb.jsonl'## TODO: fill in the path to your captured data\n",
    "\n",
    "#S3Downloader.download(data_path, \"data_capture1\")\n",
    "\n",
    "# Feel free to repeat this multiple times and pull in more data\n",
    "\n"
   ]
  },
  {
   "cell_type": "markdown",
   "metadata": {},
   "source": [
    "The data are in JSONLines format, where multiple valid JSON objects are stacked on top of eachother in a single `jsonl` file. We'll import an open-source library, `jsonlines` that was purpose built for parsing this format."
   ]
  },
  {
   "cell_type": "code",
   "execution_count": 21,
   "metadata": {},
   "outputs": [
    {
     "name": "stdout",
     "output_type": "stream",
     "text": [
      "/opt/conda/lib/python3.7/site-packages/secretstorage/dhcrypto.py:16: CryptographyDeprecationWarning: int_from_bytes is deprecated, use int.from_bytes instead\n",
      "  from cryptography.utils import int_from_bytes\n",
      "/opt/conda/lib/python3.7/site-packages/secretstorage/util.py:25: CryptographyDeprecationWarning: int_from_bytes is deprecated, use int.from_bytes instead\n",
      "  from cryptography.utils import int_from_bytes\n",
      "Collecting jsonlines\n",
      "  Using cached jsonlines-3.0.0-py3-none-any.whl (8.5 kB)\n",
      "Requirement already satisfied: typing-extensions in /opt/conda/lib/python3.7/site-packages (from jsonlines) (4.0.1)\n",
      "Requirement already satisfied: attrs>=19.2.0 in /opt/conda/lib/python3.7/site-packages (from jsonlines) (19.3.0)\n",
      "Installing collected packages: jsonlines\n",
      "Successfully installed jsonlines-3.0.0\n",
      "\u001b[33mWARNING: Running pip as the 'root' user can result in broken permissions and conflicting behaviour with the system package manager. It is recommended to use a virtual environment instead: https://pip.pypa.io/warnings/venv\u001b[0m\n"
     ]
    }
   ],
   "source": [
    "!pip install jsonlines\n",
    "import jsonlines"
   ]
  },
  {
   "cell_type": "markdown",
   "metadata": {},
   "source": [
    "Now we can extract the data from each of the source files:"
   ]
  },
  {
   "cell_type": "code",
   "execution_count": 37,
   "metadata": {},
   "outputs": [],
   "source": [
    "import os\n",
    "\n",
    "# List the file names we downloaded\n",
    "file_handles = os.listdir(\"./data_capture1\")\n",
    "\n",
    "# Dump all the data into an array\n",
    "json_data = []\n",
    "for jsonl in file_handles:\n",
    "    with jsonlines.open(f\"./data_capture1/{jsonl}\") as f:\n",
    "        json_data.append(f.read())"
   ]
  },
  {
   "cell_type": "code",
   "execution_count": 30,
   "metadata": {},
   "outputs": [
    {
     "name": "stdout",
     "output_type": "stream",
     "text": [
      "[{'captureData': {'endpointInput': {'observedContentType': 'image/png', 'mode': 'INPUT', 'data': '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', 'encoding': 'BASE64'}, 'endpointOutput': {'observedContentType': 'application/json', 'mode': 'OUTPUT', 'data': '[0.9498064517974854, 0.05019357055425644]', 'encoding': 'JSON'}}, 'eventMetadata': {'eventId': 'f127139a-64f5-49a9-8c50-34558e3dd9f0', 'inferenceTime': '2022-01-14T12:36:46Z'}, 'eventVersion': '0'}, {'captureData': {'endpointInput': {'observedContentType': 'image/png', 'mode': 'INPUT', 'data': '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', 'encoding': 'BASE64'}, 'endpointOutput': {'observedContentType': 'application/json', 'mode': 'OUTPUT', 'data': '[0.8572024703025818, 0.14279751479625702]', 'encoding': 'JSON'}}, 'eventMetadata': {'eventId': '2a14994b-9bfe-4f02-8ac9-dbd4cfd94747', 'inferenceTime': '2022-01-13T07:00:04Z'}, 'eventVersion': '0'}, {'captureData': {'endpointInput': {'observedContentType': 'image/png', 'mode': 'INPUT', 'data': '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', 'encoding': 'BASE64'}, 'endpointOutput': {'observedContentType': 'application/json', 'mode': 'OUTPUT', 'data': '[0.9007188081741333, 0.0992811769247055]', 'encoding': 'JSON'}}, 'eventMetadata': {'eventId': 'aba70f63-cb03-4c80-8cbf-7ea51b5dfcc3', 'inferenceTime': '2022-01-15T14:01:48Z'}, 'eventVersion': '0'}, {'captureData': {'endpointInput': {'observedContentType': 'image/png', 'mode': 'INPUT', 'data': 'iVBORw0KGgoAAAANSUhEUgAAACAAAAAgCAYAAABzenr0AAAABHNCSVQICAgIfAhkiAAAAAlwSFlzAAAPYQAAD2EBqD+naQAACppJREFUWIVNl2lvXEd2hp/a7u17e2+STVLNTQtJWbJk2ZYHiZEZTILkf+WPxUEQILPIise7ZFsLZa7NbrK323etqnygYsz5WCgUCi9OnXoe8cnDu74kZHVzi/PzU4o0IysrhFQ4WyEBL0BLRXelS7fRQ9ZbNLpr5HlJVuaYIEApibA5lQUvNa6qKPMCbQxBVEMpTZYVeO8RgHUO6TwyqMWooIaTmtxrClmjdAKlFPVmC68CSieImx06q33iTpdWo421OclyivMOAGcdVVnR6XRQSuO9R0oJQtBsNmk2m7+teW5KIJCjRYmVmub2AY3uKs3+Jl6pm43eo7WiXm/w+e//gIxiRNQgaDQYnp+SZylKSLx1FFmG1AqtJUo4olpIHMcYYxBC4JxFCI9zFVpCoBVOgF7d2yeZjWn3N9gxFms9o9MjhBDkeY7Wmp29AQcP7/Dq1Q8sspLKQ55lRPUmEoESApQmimpMJtesrq6hpEEIxfV0ipSS5XKJ9w482LJEKgUSdGdzneurM45efMPKYJ1Gs44UAiklSilarRZVWXE9HLLS6iBMzGK5IDQKISUI8N6jlCRJEpyzXFxcUOQVzgnCKMR6R1mWKKXAe6y1OGsRUqOFS/A2YzK6IAwMvu1w3uOlpBE3kEpjS8tyWtJaG2CiJvvdmJ9fvWY6TcFLrPc3KXiP94AQGKPQOiButpjN51RVBby/rNaAwHvQ08szAgXWlsynE2aLBOscQhl0XEcIT57nzNKUx08/5fJ6QlivkRYpyeSaVmcFrwS1sAZOkaYpRhsa7Tr37j+g3V3hr3/+E+PxmP8v60AIcN6j3/z4lnpTgcwYX54R1OqEUlIPQlZ6PaSWjN4eMbmesEyXLJIrXv90THp5STpfUBQ57bVVfGBIkgW2yDh69ROl85ycD7l78MFN5M6hlCIIQvK8wPmbt6Aa9e6/o0GaAAG4ylIsEpr1JsYYtNE0Oy229+4wmY1YJAtOX58R6IDu2i2iMCQKDNZBox4hbA4OtBcs5lfM51PavRX6/XWiKCRJErwHIQR40F4KksTRDgTeCIp0iQgiUmtJR0MOuodsDAZktqIeXKBrhp1bLVw5Y3dvBWksVCXeWxAlZSFJ0g1++cmj24qtrXUmy5LKV9zd2eH6coyTAu8dzpZoo2sU2RKHQFiPc45Wt0NRFJR5ijGGKKwxOf6F3mCEV106tzzbawuM+QrrFaFyRDpFAng4mwmOjwd4axB4pmdnOBewvTYgaDRJJ1dIBFIK9Nb+AVW2pJCO6XhMGAZoEyJNSH99jU6ny9nwjCQdk1cZr18taJmK/ZXX1EVJ5evEuiSQE4QPyNMGzSim3o45fjUibhg+3XqEm+YUxzPquWBSllRSIJxAr27eItCQZgmNep1er4uSETII6TRq5MuEq6sRm7fWcGpEmuVkiyY/vhrw+eMLotBTUwEyrOEqiaNkOW1wNSuJm6usiDbnF8fMsiX5uCBIYb3XwDUNpZXo1V6HZismCDTGBARBgJKSlq0hZpZfr96w2T+gNDA6K9m6Nef8OOVPP0u8DPn9wxzrNVZsYKsMpZaM5n1CF+DTnKPTE7p3N4jiFm4xxY1zKApa7U2clujHD+4jjQIpkEIipOD4zQn5yZjF1Yyr6xGZXVIKgUhLeg8iDg8N37+0HE8e8s3RKx7tz6EI0SpikcPSb7ET1jgyR4h6hGnVsUVGPk/Y29/n6LsfcCqntbaKXt9YIytLHB6jQ7589pwv//JnVpsN+htdtp8ccPLmhKuXJySTS7btY/bu1qkSSdja5mTZZ9e9oxv+iLOelD66bJMvRsh+iyzJWIwvMI0aJgxY6gmyIRjPfiGPf0ULAVprpFJ8+/V3fPX8Of/6L3+kcjlaOB599JSOaPNuJngRFBy/veDw49+xvnnJaLZgWSh+fHmbTw8LavJ7KvmEdtrkdXRGuNomdxbhHbgKLSVJNiaODXM7J8lmyCAIiKKI09NTnj/7C//2z3/gk08/xlaOUBlsUZKNJizmc6JOi6tywffPTwnjBmXxju+++hv/8+xrvnyxycR9TJmvc3k8pNbvEMUBUcPgS4FKPVEUIwAdSUx803MyqkXYquL5s2c8efQhjx4+wHtHEIZIHSCdx1WOQgtcVbJ5b4d5MiPPVgmDkHbHMUssx1eKS/8Z2URzOj0limLaQQscTMfX2KSgFmuc9GTCIyON8B5ppObo7RvyZcLn//CPKKlQQtHt9VikObPxNSYI6W1vsH17lw8ePKCoCuaznHbvHo+e3KXe1Lg8pciWTM4SiANkYDDeQGWxZcFikVC6FFvlWFtQVTnG19G2svzy8y8cHBwQRRF5nuOcY3V1lbM375icXxJ3m+wOOmRFQmgCnITZYsLjT/6IFQOSZMno1wtO3kJ6omms9XGZoL/Sw6zvcTQqoRXT7PSxU0/qLNLHBDJATmczJpNr7t69d/M7KYUUglarTT2OmYyu0TVNt9dipd0jrtVQYcDu7j22Btso36UWxOzs98iqGrMKCuvpRB2SWYaXAf37d9m8v8/G2h0Otp8QhzWqZcHVcIieLReESrLWX8N73nOgZposWC6XmNIyvhoR25Q8L7iaXNNbW+H2vdsUVc7ocsxoOGX3TpfrkaPeaSKMQzZhvpxSUbF1ewtLQT67xugau7cGvD2akhUCnec5SkqMMVSl5e/LFpZ6HCKjgHfDMwJtKLyl1qiTFCnVtQMtSAt4d1TSX9ulHmmGszGFT6l8yWBri26nTRAILi9H1MIWt28/4f7+Q96++QFdVRbnHQLBDbF7qqpCScn67g6BEvQ3b7FZ7WG04u3rNyRJgsWTZEua3Q6f/u6fyJYVu3u7hMZz+l//zcZKn9adFnEUE4cB8/k1ZVlx/3CXWhRSr+/R6a6ggyBCagPWIoXEOrBVhfKwt7dzg9MIWrUI6xyL2ZzdnR3WuyvYqgIP/furTGcT5rMFjV6bfm+Vtz/9zNPPPiOSgunwlLOLIRvbe2itqMoSNLQabXSzHuOcJVkkNBqtG3kQN0TsnAOl3lOvYjweE5uAW/11aibAvRcQpSSBMSgpsVXFRx895sWLl/zvsy+J6jVQjvX1Ter1BlmWEgQ1lPL4yqJ7rTq1IOD8/JwPP1yjKDK0uTkYQAoBQuCBk+Nj9rZ2aIQRXjiQErgZ5ePRmKurCbfvPKUqLQcHB5ydXaADw2p/jSiKMMYQhiHeQ1VWIBy6VW+yf/iAb77+lscfPiaKIoqieO8FAqMkxgR8+/2PAAwGg/c6JhDiJp08L5nMEn49OWf7YkQQBHip2D88JAxDhPeUVYUX4kbJhMB5hwVkFNV5+slTalHEF//5BeLvXK7ZbCKU5OdXrxgOhxwe3sd6955oBSCorCPPC6TSmDDE+ZtmDsKQrMiZzWYkyeK3AZfn+W+pmTBAfPm3l955x/nViC+++A9CYxgMBkRRxDJNOTk7x1YlHxwe0uv1MEL+JplCCIqiwFrL6HrCxXDIYHCLILjxQSklWsobfdOaWj1+j+a139xT/PWrH7xzjlLC5Pqan1685Hw4ZLFYEMUxnU6Xne0twkChtUFrgy0qcJaqqrAePOC8o7IWoyRhECAQKK2Q4uYSyhj8+56RUt0gAIL/A87HW0Jr2QDcAAAAAElFTkSuQmCC', 'encoding': 'BASE64'}, 'endpointOutput': {'observedContentType': 'application/json', 'mode': 'OUTPUT', 'data': '[0.9498064517974854, 0.05019357055425644]', 'encoding': 'JSON'}}, 'eventMetadata': {'eventId': 'cf20ec97-42ed-44c6-b400-afe44ac39527', 'inferenceTime': '2022-01-14T12:46:13Z'}, 'eventVersion': '0'}, {'captureData': {'endpointInput': {'observedContentType': 'image/png', 'mode': 'INPUT', 'data': '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', 'encoding': 'BASE64'}, 'endpointOutput': {'observedContentType': 'application/json', 'mode': 'OUTPUT', 'data': '[0.9498064517974854, 0.05019357055425644]', 'encoding': 'JSON'}}, 'eventMetadata': {'eventId': '93b4fed0-7ce0-4a84-b541-1f263d6fcae0', 'inferenceTime': '2022-01-14T12:38:52Z'}, 'eventVersion': '0'}]\n"
     ]
    }
   ],
   "source": [
    "print(json_data)"
   ]
  },
  {
   "cell_type": "markdown",
   "metadata": {},
   "source": [
    "The data should now be a list of dictionaries, with significant nesting. We'll give you an example of some code that grabs data out of the objects and visualizes it:"
   ]
  },
  {
   "cell_type": "code",
   "execution_count": 39,
   "metadata": {},
   "outputs": [
    {
     "data": {
      "text/plain": [
       "([0.9007188081741333, 0.0992811769247055], '2022-01-15T14:01:48Z')"
      ]
     },
     "execution_count": 39,
     "metadata": {},
     "output_type": "execute_result"
    }
   ],
   "source": [
    "# Define how we'll get our data\n",
    "def simple_getter(obj):\n",
    "    inferences = obj[\"captureData\"][\"endpointOutput\"][\"data\"]\n",
    "    timestamp = obj[\"eventMetadata\"][\"inferenceTime\"]\n",
    "    return json.loads(inferences), timestamp\n",
    "\n",
    "simple_getter(json_data[4])"
   ]
  },
  {
   "cell_type": "markdown",
   "metadata": {},
   "source": [
    "Finally, here's an example of a visualization you can build with this data. In this last part, you will take some time and build your own - the captured data has the input images, the resulting inferences, and the timestamps."
   ]
  },
  {
   "cell_type": "code",
   "execution_count": 40,
   "metadata": {},
   "outputs": [
    {
     "name": "stdout",
     "output_type": "stream",
     "text": [
      "['2022-01-14T12:36:46Z', '2022-01-14T12:56:45Z', '2022-01-13T07:00:04Z', '2022-01-14T12:27:13Z', '2022-01-15T14:01:48Z', '2022-01-14T12:46:13Z', '2022-01-14T12:38:52Z'] [0.9498064517974854, 0.9498064517974854, 0.8572024703025818, 0.9498064517974854, 0.9007188081741333, 0.9498064517974854, 0.9498064517974854]\n"
     ]
    },
    {
     "data": {
      "image/png": "[encoded data removed]",
      "text/plain": [
       "<Figure size 432x288 with 1 Axes>"
      ]
     },
     "metadata": {},
     "output_type": "display_data"
    }
   ],
   "source": [
    "import matplotlib.pyplot as plt\n",
    "# Populate the data for the x and y axis\n",
    "x = []\n",
    "y = []\n",
    "for obj in json_data:\n",
    "    inference, timestamp = simple_getter(obj)\n",
    "    \n",
    "    y.append(max(inference))\n",
    "    x.append(timestamp)\n",
    "print(x,y)\n",
    "# Todo: here is an visualization example, take some time to build another visual that helps monitor the result\n",
    "# Plot the data\n",
    "plt.scatter(x, y, c=['r' if k<.94 else 'b' for k in y ])\n",
    "plt.axhline(y=0.93, color='g', linestyle='--')\n",
    "plt.ylim(bottom=.75)\n",
    "\n",
    "# Add labels\n",
    "plt.ylabel(\"Confidence\")\n",
    "plt.suptitle(\"Observed Recent Inferences\", size=14)\n",
    "plt.title(\"Pictured with confidence threshold for production use\", size=10)\n",
    "\n",
    "# Give it some pizzaz!\n",
    "plt.style.use(\"Solarize_Light2\")\n",
    "plt.gcf().autofmt_xdate()"
   ]
  },
  {
   "cell_type": "markdown",
   "metadata": {},
   "source": [
    "### Todo: build your own visualization\n"
   ]
  },
  {
   "cell_type": "code",
   "execution_count": 41,
   "metadata": {},
   "outputs": [
    {
     "data": {
      "image/png": "[encoded data removed]",
      "text/plain": [
       "<Figure size 432x288 with 1 Axes>"
      ]
     },
     "metadata": {},
     "output_type": "display_data"
    }
   ],
   "source": [
    "# Populate the data for the x and y axis\n",
    "x = []\n",
    "y = []\n",
    "for obj in json_data:\n",
    "    inference, timestamp = simple_getter(obj)\n",
    "    \n",
    "    y.append(max(inference))\n",
    "    x.append(timestamp)\n",
    "\n",
    "# Todo: here is an visualization example, take some time to build another visual that helps monitor the result\n",
    "# Plot the data\n",
    "plt.plot(x,y,linestyle = 'dotted')\n",
    "#plt.axhline(y=0.95, color='g', linestyle='--')\n",
    "#plt.ylim(bottom=.88)\n",
    "\n",
    "# Add labels\n",
    "plt.ylabel(\"Confidence\")\n",
    "plt.suptitle(\"Observed Recent Inferences\", size=14)\n",
    "plt.title(\"Pictured with confidence threshold for production use\", size=10)\n",
    "\n",
    "# Give it some pizzaz!\n",
    "plt.style.use(\"Solarize_Light2\")\n",
    "plt.gcf().autofmt_xdate()\n",
    "plt.show()"
   ]
  },
  {
   "cell_type": "markdown",
   "metadata": {},
   "source": [
    "### Congratulations!\n",
    "\n",
    "You've reached the end of the project. In this project you created an event-drivent ML workflow that can be incorporated into the Scones Unlimited production architecture. You used the SageMaker Estimator API to deploy your SageMaker Model and Endpoint, and you used AWS Lambda and Step Functions to orchestrate your ML workflow. Using SageMaker Model Monitor, you instrumented and observed your Endpoint, and at the end of the project you built a visualization to help stakeholders understand the performance of the Endpoint over time. If you're up for it, you can even go further with these stretch goals:\n",
    "\n",
    "* Extend your workflow to incorporate more classes: the CIFAR dataset includes other vehicles that Scones Unlimited can identify with this model.\n",
    "* Modify your event driven workflow: can you rewrite your Lambda functions so that the workflow can process multiple image inputs in parallel? Can the Step Function \"fan out\" to accomodate this new workflow?\n",
    "* Consider the test data generator we provided for you. Can we use it to create a \"dummy data\" generator, to simulate a continuous stream of input data? Or a big paralell load of data?\n",
    "* What if we want to get notified every time our step function errors out? Can we use the Step Functions visual editor in conjunction with a service like SNS to accomplish this? Try it out!\n",
    "\n",
    "\n"
   ]
  },
  {
   "cell_type": "code",
   "execution_count": null,
   "metadata": {},
   "outputs": [],
   "source": []
  }
 ],
 "metadata": {
  "instance_type": "ml.t3.medium",
  "kernelspec": {
   "display_name": "Python 3 (Data Science)",
   "language": "python",
   "name": "python3__SAGEMAKER_INTERNAL__arn:aws:sagemaker:us-east-1:081325390199:image/datascience-1.0"
  },
  "language_info": {
   "codemirror_mode": {
    "name": "ipython",
    "version": 3
   },
   "file_extension": ".py",
   "mimetype": "text/x-python",
   "name": "python",
   "nbconvert_exporter": "python",
   "pygments_lexer": "ipython3",
   "version": "3.7.10"
  }
 },
 "nbformat": 4,
 "nbformat_minor": 4
}
